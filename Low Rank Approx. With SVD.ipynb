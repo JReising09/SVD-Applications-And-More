{
 "cells": [
  {
   "cell_type": "markdown",
   "metadata": {},
   "source": [
    "## Low Rank Approximation With SVD"
   ]
  },
  {
   "cell_type": "markdown",
   "metadata": {},
   "source": [
    "### Read in our necessary libraries."
   ]
  },
  {
   "cell_type": "code",
   "execution_count": 1,
   "metadata": {},
   "outputs": [],
   "source": [
    "%matplotlib inline\n",
    "\n",
    "from matplotlib import pyplot as plt\n",
    "import numpy as np\n",
    "\n",
    "import pandas as pd\n",
    "import scipy as sci \n",
    "from scipy import linalg\n",
    "\n",
    "np.set_printoptions(precision = 5, suppress = True, linewidth = 100)"
   ]
  },
  {
   "cell_type": "markdown",
   "metadata": {},
   "source": [
    "### Read in our MovieLens data \n",
    "Note that these data sets are smaller than the actual MovieLens datasets."
   ]
  },
  {
   "cell_type": "code",
   "execution_count": 3,
   "metadata": {},
   "outputs": [],
   "source": [
    "movies = pd.read_csv('movies.csv')\n",
    "ratings = pd.read_csv('ratings.csv')"
   ]
  },
  {
   "cell_type": "code",
   "execution_count": 5,
   "metadata": {},
   "outputs": [
    {
     "data": {
      "text/html": [
       "<div>\n",
       "<style scoped>\n",
       "    .dataframe tbody tr th:only-of-type {\n",
       "        vertical-align: middle;\n",
       "    }\n",
       "\n",
       "    .dataframe tbody tr th {\n",
       "        vertical-align: top;\n",
       "    }\n",
       "\n",
       "    .dataframe thead th {\n",
       "        text-align: right;\n",
       "    }\n",
       "</style>\n",
       "<table border=\"1\" class=\"dataframe\">\n",
       "  <thead>\n",
       "    <tr style=\"text-align: right;\">\n",
       "      <th></th>\n",
       "      <th>movieId</th>\n",
       "      <th>title</th>\n",
       "      <th>genres</th>\n",
       "    </tr>\n",
       "  </thead>\n",
       "  <tbody>\n",
       "    <tr>\n",
       "      <th>0</th>\n",
       "      <td>1</td>\n",
       "      <td>Toy Story (1995)</td>\n",
       "      <td>Adventure|Animation|Children|Comedy|Fantasy</td>\n",
       "    </tr>\n",
       "    <tr>\n",
       "      <th>1</th>\n",
       "      <td>2</td>\n",
       "      <td>Jumanji (1995)</td>\n",
       "      <td>Adventure|Children|Fantasy</td>\n",
       "    </tr>\n",
       "    <tr>\n",
       "      <th>2</th>\n",
       "      <td>3</td>\n",
       "      <td>Grumpier Old Men (1995)</td>\n",
       "      <td>Comedy|Romance</td>\n",
       "    </tr>\n",
       "    <tr>\n",
       "      <th>3</th>\n",
       "      <td>4</td>\n",
       "      <td>Waiting to Exhale (1995)</td>\n",
       "      <td>Comedy|Drama|Romance</td>\n",
       "    </tr>\n",
       "    <tr>\n",
       "      <th>4</th>\n",
       "      <td>5</td>\n",
       "      <td>Father of the Bride Part II (1995)</td>\n",
       "      <td>Comedy</td>\n",
       "    </tr>\n",
       "  </tbody>\n",
       "</table>\n",
       "</div>"
      ],
      "text/plain": [
       "   movieId                               title  \\\n",
       "0        1                    Toy Story (1995)   \n",
       "1        2                      Jumanji (1995)   \n",
       "2        3             Grumpier Old Men (1995)   \n",
       "3        4            Waiting to Exhale (1995)   \n",
       "4        5  Father of the Bride Part II (1995)   \n",
       "\n",
       "                                        genres  \n",
       "0  Adventure|Animation|Children|Comedy|Fantasy  \n",
       "1                   Adventure|Children|Fantasy  \n",
       "2                               Comedy|Romance  \n",
       "3                         Comedy|Drama|Romance  \n",
       "4                                       Comedy  "
      ]
     },
     "execution_count": 5,
     "metadata": {},
     "output_type": "execute_result"
    }
   ],
   "source": [
    "movies.head()"
   ]
  },
  {
   "cell_type": "code",
   "execution_count": 6,
   "metadata": {
    "scrolled": true
   },
   "outputs": [
    {
     "data": {
      "text/html": [
       "<div>\n",
       "<style scoped>\n",
       "    .dataframe tbody tr th:only-of-type {\n",
       "        vertical-align: middle;\n",
       "    }\n",
       "\n",
       "    .dataframe tbody tr th {\n",
       "        vertical-align: top;\n",
       "    }\n",
       "\n",
       "    .dataframe thead th {\n",
       "        text-align: right;\n",
       "    }\n",
       "</style>\n",
       "<table border=\"1\" class=\"dataframe\">\n",
       "  <thead>\n",
       "    <tr style=\"text-align: right;\">\n",
       "      <th></th>\n",
       "      <th>movieId</th>\n",
       "      <th>title</th>\n",
       "      <th>genres</th>\n",
       "    </tr>\n",
       "  </thead>\n",
       "  <tbody>\n",
       "    <tr>\n",
       "      <th>9737</th>\n",
       "      <td>193581</td>\n",
       "      <td>Black Butler: Book of the Atlantic (2017)</td>\n",
       "      <td>Action|Animation|Comedy|Fantasy</td>\n",
       "    </tr>\n",
       "    <tr>\n",
       "      <th>9738</th>\n",
       "      <td>193583</td>\n",
       "      <td>No Game No Life: Zero (2017)</td>\n",
       "      <td>Animation|Comedy|Fantasy</td>\n",
       "    </tr>\n",
       "    <tr>\n",
       "      <th>9739</th>\n",
       "      <td>193585</td>\n",
       "      <td>Flint (2017)</td>\n",
       "      <td>Drama</td>\n",
       "    </tr>\n",
       "    <tr>\n",
       "      <th>9740</th>\n",
       "      <td>193587</td>\n",
       "      <td>Bungo Stray Dogs: Dead Apple (2018)</td>\n",
       "      <td>Action|Animation</td>\n",
       "    </tr>\n",
       "    <tr>\n",
       "      <th>9741</th>\n",
       "      <td>193609</td>\n",
       "      <td>Andrew Dice Clay: Dice Rules (1991)</td>\n",
       "      <td>Comedy</td>\n",
       "    </tr>\n",
       "  </tbody>\n",
       "</table>\n",
       "</div>"
      ],
      "text/plain": [
       "      movieId                                      title  \\\n",
       "9737   193581  Black Butler: Book of the Atlantic (2017)   \n",
       "9738   193583               No Game No Life: Zero (2017)   \n",
       "9739   193585                               Flint (2017)   \n",
       "9740   193587        Bungo Stray Dogs: Dead Apple (2018)   \n",
       "9741   193609        Andrew Dice Clay: Dice Rules (1991)   \n",
       "\n",
       "                               genres  \n",
       "9737  Action|Animation|Comedy|Fantasy  \n",
       "9738         Animation|Comedy|Fantasy  \n",
       "9739                            Drama  \n",
       "9740                 Action|Animation  \n",
       "9741                           Comedy  "
      ]
     },
     "execution_count": 6,
     "metadata": {},
     "output_type": "execute_result"
    }
   ],
   "source": [
    "movies.tail()"
   ]
  },
  {
   "cell_type": "markdown",
   "metadata": {},
   "source": [
    "Notice the end of the movies dataframe there are gaps in the movie id's compared to the index. So we are going to redefine the movie id so that we give the movie id and index based on where it occurs in the dataframe. We are going to be creating a sparse matrix but we are only going to store the non-zero values. The problem is that if we do it with the movie id's we have now, then we will have 193609 columns with most of them consisting of just zeroes. So to save memory, we are going to create a dictionary of key-value pairs for the original movie id and the index."
   ]
  },
  {
   "cell_type": "code",
   "execution_count": 7,
   "metadata": {},
   "outputs": [
    {
     "data": {
      "text/html": [
       "<div>\n",
       "<style scoped>\n",
       "    .dataframe tbody tr th:only-of-type {\n",
       "        vertical-align: middle;\n",
       "    }\n",
       "\n",
       "    .dataframe tbody tr th {\n",
       "        vertical-align: top;\n",
       "    }\n",
       "\n",
       "    .dataframe thead th {\n",
       "        text-align: right;\n",
       "    }\n",
       "</style>\n",
       "<table border=\"1\" class=\"dataframe\">\n",
       "  <thead>\n",
       "    <tr style=\"text-align: right;\">\n",
       "      <th></th>\n",
       "      <th>userId</th>\n",
       "      <th>movieId</th>\n",
       "      <th>rating</th>\n",
       "      <th>ReId</th>\n",
       "    </tr>\n",
       "  </thead>\n",
       "  <tbody>\n",
       "    <tr>\n",
       "      <th>0</th>\n",
       "      <td>1</td>\n",
       "      <td>1</td>\n",
       "      <td>4.0</td>\n",
       "      <td>0</td>\n",
       "    </tr>\n",
       "    <tr>\n",
       "      <th>1</th>\n",
       "      <td>1</td>\n",
       "      <td>3</td>\n",
       "      <td>4.0</td>\n",
       "      <td>2</td>\n",
       "    </tr>\n",
       "    <tr>\n",
       "      <th>2</th>\n",
       "      <td>1</td>\n",
       "      <td>6</td>\n",
       "      <td>4.0</td>\n",
       "      <td>5</td>\n",
       "    </tr>\n",
       "    <tr>\n",
       "      <th>3</th>\n",
       "      <td>1</td>\n",
       "      <td>47</td>\n",
       "      <td>5.0</td>\n",
       "      <td>43</td>\n",
       "    </tr>\n",
       "    <tr>\n",
       "      <th>4</th>\n",
       "      <td>1</td>\n",
       "      <td>50</td>\n",
       "      <td>5.0</td>\n",
       "      <td>46</td>\n",
       "    </tr>\n",
       "  </tbody>\n",
       "</table>\n",
       "</div>"
      ],
      "text/plain": [
       "   userId  movieId  rating  ReId\n",
       "0       1        1     4.0     0\n",
       "1       1        3     4.0     2\n",
       "2       1        6     4.0     5\n",
       "3       1       47     5.0    43\n",
       "4       1       50     5.0    46"
      ]
     },
     "execution_count": 7,
     "metadata": {},
     "output_type": "execute_result"
    }
   ],
   "source": [
    "ReMovieId = dict()\n",
    "for idx in movies.index:\n",
    "    ReMovieId[movies.movieId[idx]] = idx\n",
    "ratings['ReId'] = [ ReMovieId[mId] for mId in ratings.movieId]\n",
    "ratings.head()"
   ]
  },
  {
   "cell_type": "code",
   "execution_count": 9,
   "metadata": {},
   "outputs": [
    {
     "data": {
      "text/html": [
       "<div>\n",
       "<style scoped>\n",
       "    .dataframe tbody tr th:only-of-type {\n",
       "        vertical-align: middle;\n",
       "    }\n",
       "\n",
       "    .dataframe tbody tr th {\n",
       "        vertical-align: top;\n",
       "    }\n",
       "\n",
       "    .dataframe thead th {\n",
       "        text-align: right;\n",
       "    }\n",
       "</style>\n",
       "<table border=\"1\" class=\"dataframe\">\n",
       "  <thead>\n",
       "    <tr style=\"text-align: right;\">\n",
       "      <th></th>\n",
       "      <th>userId</th>\n",
       "      <th>movieId</th>\n",
       "      <th>rating</th>\n",
       "      <th>ReId</th>\n",
       "    </tr>\n",
       "  </thead>\n",
       "  <tbody>\n",
       "    <tr>\n",
       "      <th>count</th>\n",
       "      <td>100836.000000</td>\n",
       "      <td>100836.000000</td>\n",
       "      <td>100836.000000</td>\n",
       "      <td>100836.000000</td>\n",
       "    </tr>\n",
       "    <tr>\n",
       "      <th>mean</th>\n",
       "      <td>326.127564</td>\n",
       "      <td>19435.295718</td>\n",
       "      <td>3.501557</td>\n",
       "      <td>3107.376235</td>\n",
       "    </tr>\n",
       "    <tr>\n",
       "      <th>std</th>\n",
       "      <td>182.618491</td>\n",
       "      <td>35530.987199</td>\n",
       "      <td>1.042529</td>\n",
       "      <td>2633.512801</td>\n",
       "    </tr>\n",
       "    <tr>\n",
       "      <th>min</th>\n",
       "      <td>1.000000</td>\n",
       "      <td>1.000000</td>\n",
       "      <td>0.500000</td>\n",
       "      <td>0.000000</td>\n",
       "    </tr>\n",
       "    <tr>\n",
       "      <th>25%</th>\n",
       "      <td>177.000000</td>\n",
       "      <td>1199.000000</td>\n",
       "      <td>3.000000</td>\n",
       "      <td>901.000000</td>\n",
       "    </tr>\n",
       "    <tr>\n",
       "      <th>50%</th>\n",
       "      <td>325.000000</td>\n",
       "      <td>2991.000000</td>\n",
       "      <td>3.500000</td>\n",
       "      <td>2254.000000</td>\n",
       "    </tr>\n",
       "    <tr>\n",
       "      <th>75%</th>\n",
       "      <td>477.000000</td>\n",
       "      <td>8122.000000</td>\n",
       "      <td>4.000000</td>\n",
       "      <td>5105.250000</td>\n",
       "    </tr>\n",
       "    <tr>\n",
       "      <th>max</th>\n",
       "      <td>610.000000</td>\n",
       "      <td>193609.000000</td>\n",
       "      <td>5.000000</td>\n",
       "      <td>9741.000000</td>\n",
       "    </tr>\n",
       "  </tbody>\n",
       "</table>\n",
       "</div>"
      ],
      "text/plain": [
       "              userId        movieId         rating           ReId\n",
       "count  100836.000000  100836.000000  100836.000000  100836.000000\n",
       "mean      326.127564   19435.295718       3.501557    3107.376235\n",
       "std       182.618491   35530.987199       1.042529    2633.512801\n",
       "min         1.000000       1.000000       0.500000       0.000000\n",
       "25%       177.000000    1199.000000       3.000000     901.000000\n",
       "50%       325.000000    2991.000000       3.500000    2254.000000\n",
       "75%       477.000000    8122.000000       4.000000    5105.250000\n",
       "max       610.000000  193609.000000       5.000000    9741.000000"
      ]
     },
     "execution_count": 9,
     "metadata": {},
     "output_type": "execute_result"
    }
   ],
   "source": [
    "ratings.describe()"
   ]
  },
  {
   "cell_type": "markdown",
   "metadata": {},
   "source": [
    "### Create a sparse matrix of the user ratings\n",
    "We are going to fill the sparse matrix with the ratings and where that rating occured by using the 'ReId' so that we don't have the large number of zero columns. In other words, for example, say the 5th movie in our data set is actually the movie id '7', then the 5th column of the matrix will be for movie id '7' rather than 5 since we don't have a movie id of '5' or '6'. "
   ]
  },
  {
   "cell_type": "code",
   "execution_count": 10,
   "metadata": {},
   "outputs": [],
   "source": [
    "from scipy import sparse"
   ]
  },
  {
   "cell_type": "code",
   "execution_count": 11,
   "metadata": {},
   "outputs": [
    {
     "data": {
      "text/plain": [
       "<611x9742 sparse matrix of type '<class 'numpy.float64'>'\n",
       "\twith 100836 stored elements in Compressed Sparse Row format>"
      ]
     },
     "execution_count": 11,
     "metadata": {},
     "output_type": "execute_result"
    }
   ],
   "source": [
    "ratingsSparse = sparse.csr_matrix((ratings.rating, (ratings.userId, ratings.ReId)))\n",
    "ratingsSparse"
   ]
  },
  {
   "cell_type": "markdown",
   "metadata": {},
   "source": [
    "So this matrix is 611 rows by 9742 columns with 100836 non-zero entries. Note that this matrix has 5952362 indices so this matrix about 98% sparse. If we had used movie id's ranging from 1 to 193609, then the aprsity of the matrix would be virtually 100%. Now we can take this sparse matrix and turn it into a sparse dataframe where the zeros are not stored."
   ]
  },
  {
   "cell_type": "code",
   "execution_count": 15,
   "metadata": {
    "scrolled": true
   },
   "outputs": [
    {
     "data": {
      "text/html": [
       "<div>\n",
       "<style scoped>\n",
       "    .dataframe tbody tr th:only-of-type {\n",
       "        vertical-align: middle;\n",
       "    }\n",
       "\n",
       "    .dataframe tbody tr th {\n",
       "        vertical-align: top;\n",
       "    }\n",
       "\n",
       "    .dataframe thead th {\n",
       "        text-align: right;\n",
       "    }\n",
       "</style>\n",
       "<table border=\"1\" class=\"dataframe\">\n",
       "  <thead>\n",
       "    <tr style=\"text-align: right;\">\n",
       "      <th>title</th>\n",
       "      <th>Toy Story (1995)</th>\n",
       "      <th>Jumanji (1995)</th>\n",
       "      <th>Grumpier Old Men (1995)</th>\n",
       "      <th>Waiting to Exhale (1995)</th>\n",
       "      <th>Father of the Bride Part II (1995)</th>\n",
       "      <th>Heat (1995)</th>\n",
       "      <th>Sabrina (1995)</th>\n",
       "      <th>Tom and Huck (1995)</th>\n",
       "      <th>Sudden Death (1995)</th>\n",
       "      <th>GoldenEye (1995)</th>\n",
       "      <th>...</th>\n",
       "      <th>Gintama: The Movie (2010)</th>\n",
       "      <th>anohana: The Flower We Saw That Day - The Movie (2013)</th>\n",
       "      <th>Silver Spoon (2014)</th>\n",
       "      <th>Love Live! The School Idol Movie (2015)</th>\n",
       "      <th>Jon Stewart Has Left the Building (2015)</th>\n",
       "      <th>Black Butler: Book of the Atlantic (2017)</th>\n",
       "      <th>No Game No Life: Zero (2017)</th>\n",
       "      <th>Flint (2017)</th>\n",
       "      <th>Bungo Stray Dogs: Dead Apple (2018)</th>\n",
       "      <th>Andrew Dice Clay: Dice Rules (1991)</th>\n",
       "    </tr>\n",
       "  </thead>\n",
       "  <tbody>\n",
       "    <tr>\n",
       "      <th>0</th>\n",
       "      <td>0.0</td>\n",
       "      <td>0.0</td>\n",
       "      <td>0.0</td>\n",
       "      <td>0.0</td>\n",
       "      <td>0.0</td>\n",
       "      <td>0.0</td>\n",
       "      <td>0.0</td>\n",
       "      <td>0.0</td>\n",
       "      <td>0.0</td>\n",
       "      <td>0.0</td>\n",
       "      <td>...</td>\n",
       "      <td>0.0</td>\n",
       "      <td>0.0</td>\n",
       "      <td>0.0</td>\n",
       "      <td>0.0</td>\n",
       "      <td>0.0</td>\n",
       "      <td>0.0</td>\n",
       "      <td>0.0</td>\n",
       "      <td>0.0</td>\n",
       "      <td>0.0</td>\n",
       "      <td>0.0</td>\n",
       "    </tr>\n",
       "    <tr>\n",
       "      <th>1</th>\n",
       "      <td>4.0</td>\n",
       "      <td>0.0</td>\n",
       "      <td>4.0</td>\n",
       "      <td>0.0</td>\n",
       "      <td>0.0</td>\n",
       "      <td>4.0</td>\n",
       "      <td>0.0</td>\n",
       "      <td>0.0</td>\n",
       "      <td>0.0</td>\n",
       "      <td>0.0</td>\n",
       "      <td>...</td>\n",
       "      <td>0.0</td>\n",
       "      <td>0.0</td>\n",
       "      <td>0.0</td>\n",
       "      <td>0.0</td>\n",
       "      <td>0.0</td>\n",
       "      <td>0.0</td>\n",
       "      <td>0.0</td>\n",
       "      <td>0.0</td>\n",
       "      <td>0.0</td>\n",
       "      <td>0.0</td>\n",
       "    </tr>\n",
       "    <tr>\n",
       "      <th>2</th>\n",
       "      <td>0.0</td>\n",
       "      <td>0.0</td>\n",
       "      <td>0.0</td>\n",
       "      <td>0.0</td>\n",
       "      <td>0.0</td>\n",
       "      <td>0.0</td>\n",
       "      <td>0.0</td>\n",
       "      <td>0.0</td>\n",
       "      <td>0.0</td>\n",
       "      <td>0.0</td>\n",
       "      <td>...</td>\n",
       "      <td>0.0</td>\n",
       "      <td>0.0</td>\n",
       "      <td>0.0</td>\n",
       "      <td>0.0</td>\n",
       "      <td>0.0</td>\n",
       "      <td>0.0</td>\n",
       "      <td>0.0</td>\n",
       "      <td>0.0</td>\n",
       "      <td>0.0</td>\n",
       "      <td>0.0</td>\n",
       "    </tr>\n",
       "    <tr>\n",
       "      <th>3</th>\n",
       "      <td>0.0</td>\n",
       "      <td>0.0</td>\n",
       "      <td>0.0</td>\n",
       "      <td>0.0</td>\n",
       "      <td>0.0</td>\n",
       "      <td>0.0</td>\n",
       "      <td>0.0</td>\n",
       "      <td>0.0</td>\n",
       "      <td>0.0</td>\n",
       "      <td>0.0</td>\n",
       "      <td>...</td>\n",
       "      <td>0.0</td>\n",
       "      <td>0.0</td>\n",
       "      <td>0.0</td>\n",
       "      <td>0.0</td>\n",
       "      <td>0.0</td>\n",
       "      <td>0.0</td>\n",
       "      <td>0.0</td>\n",
       "      <td>0.0</td>\n",
       "      <td>0.0</td>\n",
       "      <td>0.0</td>\n",
       "    </tr>\n",
       "    <tr>\n",
       "      <th>4</th>\n",
       "      <td>0.0</td>\n",
       "      <td>0.0</td>\n",
       "      <td>0.0</td>\n",
       "      <td>0.0</td>\n",
       "      <td>0.0</td>\n",
       "      <td>0.0</td>\n",
       "      <td>0.0</td>\n",
       "      <td>0.0</td>\n",
       "      <td>0.0</td>\n",
       "      <td>0.0</td>\n",
       "      <td>...</td>\n",
       "      <td>0.0</td>\n",
       "      <td>0.0</td>\n",
       "      <td>0.0</td>\n",
       "      <td>0.0</td>\n",
       "      <td>0.0</td>\n",
       "      <td>0.0</td>\n",
       "      <td>0.0</td>\n",
       "      <td>0.0</td>\n",
       "      <td>0.0</td>\n",
       "      <td>0.0</td>\n",
       "    </tr>\n",
       "  </tbody>\n",
       "</table>\n",
       "<p>5 rows × 9742 columns</p>\n",
       "</div>"
      ],
      "text/plain": [
       "title  Toy Story (1995)  Jumanji (1995)  Grumpier Old Men (1995)  \\\n",
       "0                   0.0             0.0                      0.0   \n",
       "1                   4.0             0.0                      4.0   \n",
       "2                   0.0             0.0                      0.0   \n",
       "3                   0.0             0.0                      0.0   \n",
       "4                   0.0             0.0                      0.0   \n",
       "\n",
       "title  Waiting to Exhale (1995)  Father of the Bride Part II (1995)  \\\n",
       "0                           0.0                                 0.0   \n",
       "1                           0.0                                 0.0   \n",
       "2                           0.0                                 0.0   \n",
       "3                           0.0                                 0.0   \n",
       "4                           0.0                                 0.0   \n",
       "\n",
       "title  Heat (1995)  Sabrina (1995)  Tom and Huck (1995)  Sudden Death (1995)  \\\n",
       "0              0.0             0.0                  0.0                  0.0   \n",
       "1              4.0             0.0                  0.0                  0.0   \n",
       "2              0.0             0.0                  0.0                  0.0   \n",
       "3              0.0             0.0                  0.0                  0.0   \n",
       "4              0.0             0.0                  0.0                  0.0   \n",
       "\n",
       "title  GoldenEye (1995)                 ...                   \\\n",
       "0                   0.0                 ...                    \n",
       "1                   0.0                 ...                    \n",
       "2                   0.0                 ...                    \n",
       "3                   0.0                 ...                    \n",
       "4                   0.0                 ...                    \n",
       "\n",
       "title  Gintama: The Movie (2010)  \\\n",
       "0                            0.0   \n",
       "1                            0.0   \n",
       "2                            0.0   \n",
       "3                            0.0   \n",
       "4                            0.0   \n",
       "\n",
       "title  anohana: The Flower We Saw That Day - The Movie (2013)  \\\n",
       "0                                                    0.0        \n",
       "1                                                    0.0        \n",
       "2                                                    0.0        \n",
       "3                                                    0.0        \n",
       "4                                                    0.0        \n",
       "\n",
       "title  Silver Spoon (2014)  Love Live! The School Idol Movie (2015)  \\\n",
       "0                      0.0                                      0.0   \n",
       "1                      0.0                                      0.0   \n",
       "2                      0.0                                      0.0   \n",
       "3                      0.0                                      0.0   \n",
       "4                      0.0                                      0.0   \n",
       "\n",
       "title  Jon Stewart Has Left the Building (2015)  \\\n",
       "0                                           0.0   \n",
       "1                                           0.0   \n",
       "2                                           0.0   \n",
       "3                                           0.0   \n",
       "4                                           0.0   \n",
       "\n",
       "title  Black Butler: Book of the Atlantic (2017)  \\\n",
       "0                                            0.0   \n",
       "1                                            0.0   \n",
       "2                                            0.0   \n",
       "3                                            0.0   \n",
       "4                                            0.0   \n",
       "\n",
       "title  No Game No Life: Zero (2017)  Flint (2017)  \\\n",
       "0                               0.0           0.0   \n",
       "1                               0.0           0.0   \n",
       "2                               0.0           0.0   \n",
       "3                               0.0           0.0   \n",
       "4                               0.0           0.0   \n",
       "\n",
       "title  Bungo Stray Dogs: Dead Apple (2018)  \\\n",
       "0                                      0.0   \n",
       "1                                      0.0   \n",
       "2                                      0.0   \n",
       "3                                      0.0   \n",
       "4                                      0.0   \n",
       "\n",
       "title  Andrew Dice Clay: Dice Rules (1991)  \n",
       "0                                      0.0  \n",
       "1                                      0.0  \n",
       "2                                      0.0  \n",
       "3                                      0.0  \n",
       "4                                      0.0  \n",
       "\n",
       "[5 rows x 9742 columns]"
      ]
     },
     "execution_count": 15,
     "metadata": {},
     "output_type": "execute_result"
    }
   ],
   "source": [
    "ratingsDf = pd.SparseDataFrame(ratingsSparse, columns = movies.title, default_fill_value = 0, dtype = np.int32)\n",
    "ratingsDf.head()"
   ]
  },
  {
   "cell_type": "markdown",
   "metadata": {},
   "source": [
    "In the ratings dataframe above, we are seeing the movie rating by user. So in the second row (user 2) we can that they rated 'Toy Story', 'Grumpier Old Men', and 'Heat' a 4. "
   ]
  },
  {
   "cell_type": "code",
   "execution_count": null,
   "metadata": {},
   "outputs": [],
   "source": [
    "# ratingsDf.to_csv('movielens_small.csv') can export for later if need be."
   ]
  },
  {
   "cell_type": "markdown",
   "metadata": {},
   "source": [
    "Now we are going to make this a non-sparse matrix. We can do this because this is a relatively small data set compared to the actual MovieLens data."
   ]
  },
  {
   "cell_type": "code",
   "execution_count": 16,
   "metadata": {},
   "outputs": [],
   "source": [
    "Rtngs = ratingsDf.to_dense().values"
   ]
  },
  {
   "cell_type": "markdown",
   "metadata": {},
   "source": [
    "Well, how much memory would we be using if we stored all of the values?"
   ]
  },
  {
   "cell_type": "code",
   "execution_count": 20,
   "metadata": {},
   "outputs": [
    {
     "data": {
      "text/plain": [
       "47618896"
      ]
     },
     "execution_count": 20,
     "metadata": {},
     "output_type": "execute_result"
    }
   ],
   "source": [
    "Rtngs.size*Rtngs.itemsize #number of bytes to store this matrix ~ 46MB"
   ]
  },
  {
   "cell_type": "markdown",
   "metadata": {},
   "source": [
    "How much memory would we be using if we used the entire MovieLens data set?"
   ]
  },
  {
   "cell_type": "code",
   "execution_count": 22,
   "metadata": {},
   "outputs": [
    {
     "data": {
      "text/plain": [
       "123901.3671875"
      ]
     },
     "execution_count": 22,
     "metadata": {},
     "output_type": "execute_result"
    }
   ],
   "source": [
    "users, movies = 1,1\n",
    "Rtngs.itemsize  * 280_000 * users * 58_000 * movies  /1024  /1024"
   ]
  },
  {
   "cell_type": "markdown",
   "metadata": {},
   "source": [
    "This is about 123GB to store on the computer, which is why we can't do this with the full data set (at least on a laptop). For now this ok becasue we just devloping an algorithm."
   ]
  },
  {
   "cell_type": "markdown",
   "metadata": {},
   "source": [
    "### Develop the Algorithm\n",
    "We are going to start out with an 8 by 7 matrix, but we are going to get it by multiplying two matrices that are rank and corank 3. So the rank of A is going to be 3. I would like to get the SVD of A by making it smaller, in particular, a reduced A matrix with 3 columns. The example is as follows."
   ]
  },
  {
   "cell_type": "code",
   "execution_count": 23,
   "metadata": {},
   "outputs": [
    {
     "data": {
      "text/plain": [
       "matrix([[ 4,  3,  2, 12,  9,  2,  4],\n",
       "        [10,  2, 12, 12,  2, 12,  4],\n",
       "        [ 3,  1,  2,  0,  1,  2,  0],\n",
       "        [ 7,  2,  6,  3,  2,  6,  1],\n",
       "        [ 3,  3,  0,  9,  9,  0,  3],\n",
       "        [ 4,  2,  2,  3,  4,  2,  1],\n",
       "        [11,  4,  8,  6,  6,  8,  2],\n",
       "        [ 6,  3,  4,  9,  7,  4,  3]])"
      ]
     },
     "execution_count": 23,
     "metadata": {},
     "output_type": "execute_result"
    }
   ],
   "source": [
    "B = np.matrix([[1,0,3],\n",
    "               [4,2,0],\n",
    "               [0,1,0],\n",
    "               [1,2,0],\n",
    "               [0,0,3],\n",
    "               [0,1,1],\n",
    "               [1,3,1],\n",
    "               [1,1,2]]) \n",
    "\n",
    "F = np.matrix( [[1,0,2,3,0,2,1],\n",
    "                [3,1,2,0,1,2,0],\n",
    "                [1,1,0,3,3,0,1]])\n",
    "\n",
    "A = B @ F\n",
    "A"
   ]
  },
  {
   "cell_type": "code",
   "execution_count": 24,
   "metadata": {},
   "outputs": [
    {
     "data": {
      "text/plain": [
       "(8, 7)"
      ]
     },
     "execution_count": 24,
     "metadata": {},
     "output_type": "execute_result"
    }
   ],
   "source": [
    "A.shape"
   ]
  },
  {
   "cell_type": "markdown",
   "metadata": {},
   "source": [
    "### Taking the SVD of A\n",
    "Notice that the last 4 singular values are zero and the first 3 are non-zero."
   ]
  },
  {
   "cell_type": "code",
   "execution_count": 25,
   "metadata": {},
   "outputs": [
    {
     "data": {
      "text/plain": [
       "array([38.85434, 15.29954,  6.65313,  0.     ,  0.     ,  0.     ,  0.     ])"
      ]
     },
     "execution_count": 25,
     "metadata": {},
     "output_type": "execute_result"
    }
   ],
   "source": [
    "U, Sigma, Vt = linalg.svd(A)\n",
    "Sigma"
   ]
  },
  {
   "cell_type": "markdown",
   "metadata": {},
   "source": [
    "So I can just take the first 3 columns of U and the first 3 columns of V to recover the original matrix."
   ]
  },
  {
   "cell_type": "code",
   "execution_count": 26,
   "metadata": {
    "scrolled": true
   },
   "outputs": [
    {
     "data": {
      "text/plain": [
       "array([[ 4,  3,  2, 12,  9,  2,  4],\n",
       "       [10,  2, 12, 12,  2, 12,  4],\n",
       "       [ 3,  0,  2,  0,  1,  2,  0],\n",
       "       [ 7,  2,  6,  3,  2,  6,  1],\n",
       "       [ 3,  2,  0,  9,  9,  0,  3],\n",
       "       [ 4,  1,  2,  3,  4,  2,  1],\n",
       "       [11,  3,  8,  6,  6,  8,  2],\n",
       "       [ 6,  2,  4,  9,  7,  4,  3]])"
      ]
     },
     "execution_count": 26,
     "metadata": {},
     "output_type": "execute_result"
    }
   ],
   "source": [
    "( U[:,:3] @ np.diag( Sigma[:3]) @ Vt[:3,:] ).astype(int)"
   ]
  },
  {
   "cell_type": "markdown",
   "metadata": {},
   "source": [
    "So we can obtain the following representation:\n",
    "# $$\\textbf{A}_{8x7} = \\textbf{U}_{8x3} \\Sigma_{3x3} \\textbf{V}^{T}_{3x7}$$"
   ]
  },
  {
   "cell_type": "markdown",
   "metadata": {},
   "source": [
    "However, $\\textbf{U}$ is an 8 x 8 matrix when we do the SVD."
   ]
  },
  {
   "cell_type": "code",
   "execution_count": 27,
   "metadata": {
    "scrolled": true
   },
   "outputs": [
    {
     "data": {
      "text/plain": [
       "array([[-0.36985, -0.52882, -0.21429,  0.71271, -0.06635, -0.13826,  0.07312,  0.02859],\n",
       "       [-0.57233,  0.43265, -0.63184, -0.14406, -0.12394,  0.09927, -0.06413, -0.18958],\n",
       "       [-0.08937,  0.12345,  0.27611,  0.00267, -0.68226, -0.01048,  0.64278, -0.14758],\n",
       "       [-0.27714,  0.29334,  0.2562 ,  0.00374, -0.08475, -0.75424, -0.21903,  0.38399],\n",
       "       [-0.27145, -0.57526,  0.08172, -0.57334, -0.03944, -0.2762 , -0.10151, -0.41453],\n",
       "       [-0.17986, -0.0683 ,  0.30335,  0.04763, -0.5    ,  0.44334, -0.63942,  0.11525],\n",
       "       [-0.457  ,  0.22504,  0.55954,  0.18528,  0.47639,  0.19083,  0.08027, -0.35112],\n",
       "       [-0.36874, -0.21362,  0.03457, -0.3255 ,  0.17048,  0.3046 ,  0.32217,  0.69686]])"
      ]
     },
     "execution_count": 27,
     "metadata": {},
     "output_type": "execute_result"
    }
   ],
   "source": [
    "U"
   ]
  },
  {
   "cell_type": "markdown",
   "metadata": {},
   "source": [
    "So how are we going to reduce the size? We are going to generate a random matrix $\\Omega$ that is linearly independent where,\n",
    "# $$\\Omega = [\\omega_{1} | \\omega_{2} | \\omega_{3}]$$\n",
    "So these vetors are linearly independent and not in the kernal of $\\textbf{A}$. This means if we apply $\\textbf{A}$ to $\\Omega$, we will only get things in the range of $\\textbf{A}$ with 100% proability. Here, we will let,\n",
    "# $$ \\textbf{Y}_{8x3} = \\textbf{A}_{8x7} \\Omega_{7x3} $$"
   ]
  },
  {
   "cell_type": "code",
   "execution_count": 28,
   "metadata": {
    "scrolled": true
   },
   "outputs": [
    {
     "data": {
      "text/plain": [
       "matrix([[ -4.30479,  26.6944 ,  -9.58274],\n",
       "        [-37.61447,  34.35036,  -1.49662],\n",
       "        [ -7.76469,   2.10027,  -1.56271],\n",
       "        [-21.05065,  11.738  ,  -2.71822],\n",
       "        [  1.21649,  19.15695,  -9.98994],\n",
       "        [ -7.35919,   8.48592,  -4.89269],\n",
       "        [-28.40984,  20.22392,  -7.61091],\n",
       "        [-12.47497,  22.40903,  -7.81547]])"
      ]
     },
     "execution_count": 28,
     "metadata": {},
     "output_type": "execute_result"
    }
   ],
   "source": [
    "Ω = np.random.normal(size = (A.shape[1],3) )\n",
    "Y = A @ Ω\n",
    "Y"
   ]
  },
  {
   "cell_type": "markdown",
   "metadata": {},
   "source": [
    "Note that the columns of $\\textbf{Y} = [\\textbf{y}_{1} |\\textbf{y}_{2}|\\textbf{y}_{3}]$ are linearly independent and form a column basis for the range of $\\textbf{A}$ since $\\textbf{A}$ has dimension 3. Now we are going to apply the QR algorithm, where Q is the Gram-Schmidt process applied to the three columns of $\\textbf{Y}$."
   ]
  },
  {
   "cell_type": "code",
   "execution_count": 29,
   "metadata": {},
   "outputs": [],
   "source": [
    "Q, R = np.linalg.qr(Y, mode = 'reduced') # Q is the Gram-Schmidt process \n",
    "                    # applied to Y"
   ]
  },
  {
   "cell_type": "code",
   "execution_count": 30,
   "metadata": {
    "scrolled": true
   },
   "outputs": [
    {
     "data": {
      "text/plain": [
       "matrix([[-0.07919,  0.67386,  0.04482],\n",
       "        [-0.69193,  0.05047,  0.65777],\n",
       "        [-0.14283, -0.13605, -0.24607],\n",
       "        [-0.38723, -0.19146, -0.20466],\n",
       "        [ 0.02238,  0.59322, -0.24266],\n",
       "        [-0.13537,  0.06169, -0.32696],\n",
       "        [-0.52261, -0.12978, -0.53162],\n",
       "        [-0.22948,  0.34007, -0.12037]])"
      ]
     },
     "execution_count": 30,
     "metadata": {},
     "output_type": "execute_result"
    }
   ],
   "source": [
    "Q"
   ]
  },
  {
   "cell_type": "markdown",
   "metadata": {},
   "source": [
    "Notice that $\\textbf{q }_{1}^{T} \\textbf{q}_{2} = 0$. Which implies the columns of $\\textbf{Q}$ are an Orthonormal Basis for the Range of $\\textbf{Y} = \\textbf{A}\\Omega$."
   ]
  },
  {
   "cell_type": "code",
   "execution_count": 32,
   "metadata": {},
   "outputs": [
    {
     "data": {
      "text/plain": [
       "matrix([[-0.]])"
      ]
     },
     "execution_count": 32,
     "metadata": {},
     "output_type": "execute_result"
    }
   ],
   "source": [
    "Q[:,0].T @ Q[:,1]"
   ]
  },
  {
   "cell_type": "markdown",
   "metadata": {},
   "source": [
    "Note that since the columns of $\\textbf{Q}$ are and Orthonormal Basis, then $\\textbf{Q}$ is an orthogonal matrix which implies that $\\textbf{Q}\\textbf{Q}^{T} = \\textbf{I}$. So we have,\n",
    "# $$\\textbf{A} = \\textbf{Q}\\textbf{Q}^{T}\\textbf{A}$$"
   ]
  },
  {
   "cell_type": "markdown",
   "metadata": {},
   "source": [
    "Let\n",
    "# $$ \\textbf{B} = \\textbf{Q}^{T}\\textbf{A} \\implies \\textbf{A} = \\textbf{B} \\textbf{Q} $$"
   ]
  },
  {
   "cell_type": "code",
   "execution_count": 33,
   "metadata": {
    "scrolled": true
   },
   "outputs": [
    {
     "data": {
      "text/plain": [
       "matrix([[-17.97516,  -5.52122, -16.44017, -15.82084,  -8.09598, -16.44017,  -5.27361],\n",
       "        [  4.09096,   4.00765,   0.97787,  15.92348,  12.83418,   0.97787,   5.30783],\n",
       "        [ -4.01968,  -3.07487,   0.87445,   0.37924,  -6.46056,   0.87445,   0.12641]])"
      ]
     },
     "execution_count": 33,
     "metadata": {},
     "output_type": "execute_result"
    }
   ],
   "source": [
    "B = Q.T @ A\n",
    "B"
   ]
  },
  {
   "cell_type": "markdown",
   "metadata": {},
   "source": [
    "Now taking the SVD of $\\textbf{B}$, we can see that the singular values of $\\textbf{B}$ are the nonzero singular values of $\\textbf{A}$"
   ]
  },
  {
   "cell_type": "code",
   "execution_count": 34,
   "metadata": {},
   "outputs": [
    {
     "data": {
      "text/plain": [
       "(array([38.85434, 15.29954,  6.65313]),\n",
       " array([38.85434, 15.29954,  6.65313,  0.     ,  0.     ,  0.     ,  0.     ]))"
      ]
     },
     "execution_count": 34,
     "metadata": {},
     "output_type": "execute_result"
    }
   ],
   "source": [
    "Ur, Sigmar, Vrt = linalg.svd(B, full_matrices = False)\n",
    "Sigmar, Sigma"
   ]
  },
  {
   "cell_type": "markdown",
   "metadata": {},
   "source": [
    "Then multiplying $\\textbf{Q}\\textbf{U}_{B}$ (U from the SVD of B), we obtain the first 3 columns of $\\textbf{U}$ from the SVD of $\\textbf{A}$."
   ]
  },
  {
   "cell_type": "code",
   "execution_count": 35,
   "metadata": {},
   "outputs": [
    {
     "data": {
      "text/plain": [
       "matrix([[ 0.36985, -0.52882,  0.21429],\n",
       "        [ 0.57233,  0.43265,  0.63184],\n",
       "        [ 0.08937,  0.12345, -0.27611],\n",
       "        [ 0.27714,  0.29334, -0.2562 ],\n",
       "        [ 0.27145, -0.57526, -0.08172],\n",
       "        [ 0.17986, -0.0683 , -0.30335],\n",
       "        [ 0.457  ,  0.22504, -0.55954],\n",
       "        [ 0.36874, -0.21362, -0.03457]])"
      ]
     },
     "execution_count": 35,
     "metadata": {},
     "output_type": "execute_result"
    }
   ],
   "source": [
    "Q @ Ur"
   ]
  },
  {
   "cell_type": "code",
   "execution_count": 36,
   "metadata": {},
   "outputs": [
    {
     "data": {
      "text/plain": [
       "array([[-0.36985, -0.52882, -0.21429,  0.71271, -0.06635, -0.13826,  0.07312,  0.02859],\n",
       "       [-0.57233,  0.43265, -0.63184, -0.14406, -0.12394,  0.09927, -0.06413, -0.18958],\n",
       "       [-0.08937,  0.12345,  0.27611,  0.00267, -0.68226, -0.01048,  0.64278, -0.14758],\n",
       "       [-0.27714,  0.29334,  0.2562 ,  0.00374, -0.08475, -0.75424, -0.21903,  0.38399],\n",
       "       [-0.27145, -0.57526,  0.08172, -0.57334, -0.03944, -0.2762 , -0.10151, -0.41453],\n",
       "       [-0.17986, -0.0683 ,  0.30335,  0.04763, -0.5    ,  0.44334, -0.63942,  0.11525],\n",
       "       [-0.457  ,  0.22504,  0.55954,  0.18528,  0.47639,  0.19083,  0.08027, -0.35112],\n",
       "       [-0.36874, -0.21362,  0.03457, -0.3255 ,  0.17048,  0.3046 ,  0.32217,  0.69686]])"
      ]
     },
     "execution_count": 36,
     "metadata": {},
     "output_type": "execute_result"
    }
   ],
   "source": [
    "U"
   ]
  },
  {
   "cell_type": "markdown",
   "metadata": {},
   "source": [
    "Similarly, we obtain the first 3 rows of $\\textbf{V}^{T}_{A}$ from the $\\textbf{V}^{T}_{B}$."
   ]
  },
  {
   "cell_type": "code",
   "execution_count": 37,
   "metadata": {},
   "outputs": [
    {
     "data": {
      "text/plain": [
       "array([[ 0.468  ,  0.18032,  0.38451,  0.54514,  0.35009,  0.38451,  0.18171],\n",
       "       [ 0.25032, -0.1055 ,  0.45429, -0.40711, -0.57385,  0.45429, -0.1357 ],\n",
       "       [-0.49106, -0.31199,  0.10521,  0.6119 , -0.47261,  0.10521,  0.20397]])"
      ]
     },
     "execution_count": 37,
     "metadata": {},
     "output_type": "execute_result"
    }
   ],
   "source": [
    "Vrt"
   ]
  },
  {
   "cell_type": "code",
   "execution_count": 38,
   "metadata": {},
   "outputs": [
    {
     "data": {
      "text/plain": [
       "array([[-0.468  , -0.18032, -0.38451, -0.54514, -0.35009, -0.38451, -0.18171],\n",
       "       [ 0.25032, -0.1055 ,  0.45429, -0.40711, -0.57385,  0.45429, -0.1357 ],\n",
       "       [ 0.49106,  0.31199, -0.10521, -0.6119 ,  0.47261, -0.10521, -0.20397],\n",
       "       [-0.52914, -0.27549,  0.51251, -0.2694 ,  0.5346 ,  0.15164,  0.00902],\n",
       "       [ 0.4194 , -0.86669, -0.06167,  0.06822,  0.1188 , -0.19348, -0.11377],\n",
       "       [ 0.07815,  0.17015,  0.60343,  0.11666, -0.14369, -0.73389, -0.16723],\n",
       "       [ 0.12319, -0.05492,  0.06404, -0.26801, -0.06493, -0.1889 ,  0.93058]])"
      ]
     },
     "execution_count": 38,
     "metadata": {},
     "output_type": "execute_result"
    }
   ],
   "source": [
    "Vt"
   ]
  },
  {
   "cell_type": "markdown",
   "metadata": {},
   "source": [
    "So we can obtain all of the information in $\\textbf{A}$ with\n",
    "# $$ \\textbf{A} = \\textbf{Q}\\textbf{U}_{B} \\Sigma_{B}\\textbf{V}^{T}_{B} $$"
   ]
  },
  {
   "cell_type": "code",
   "execution_count": 39,
   "metadata": {},
   "outputs": [
    {
     "data": {
      "text/plain": [
       "matrix([[ 4,  3,  2, 12,  9,  2,  4],\n",
       "        [10,  2, 12, 12,  2, 12,  4],\n",
       "        [ 3,  1,  2,  0,  1,  2,  0],\n",
       "        [ 7,  2,  6,  3,  2,  6,  1],\n",
       "        [ 3,  3,  0,  9,  9,  0,  3],\n",
       "        [ 4,  2,  2,  3,  4,  2,  1],\n",
       "        [11,  4,  8,  6,  6,  8,  2],\n",
       "        [ 6,  3,  4,  9,  7,  4,  3]])"
      ]
     },
     "execution_count": 39,
     "metadata": {},
     "output_type": "execute_result"
    }
   ],
   "source": [
    "(Q @ Ur @ np.diag(Sigmar) @ Vrt).round().astype(int)"
   ]
  },
  {
   "cell_type": "code",
   "execution_count": 40,
   "metadata": {},
   "outputs": [
    {
     "data": {
      "text/plain": [
       "matrix([[ 4,  3,  2, 12,  9,  2,  4],\n",
       "        [10,  2, 12, 12,  2, 12,  4],\n",
       "        [ 3,  1,  2,  0,  1,  2,  0],\n",
       "        [ 7,  2,  6,  3,  2,  6,  1],\n",
       "        [ 3,  3,  0,  9,  9,  0,  3],\n",
       "        [ 4,  2,  2,  3,  4,  2,  1],\n",
       "        [11,  4,  8,  6,  6,  8,  2],\n",
       "        [ 6,  3,  4,  9,  7,  4,  3]])"
      ]
     },
     "execution_count": 40,
     "metadata": {},
     "output_type": "execute_result"
    }
   ],
   "source": [
    "A"
   ]
  },
  {
   "cell_type": "markdown",
   "metadata": {},
   "source": [
    "## Now let's take the same approach for the MovieLens data."
   ]
  },
  {
   "cell_type": "code",
   "execution_count": 41,
   "metadata": {},
   "outputs": [],
   "source": [
    "A = Rtngs "
   ]
  },
  {
   "cell_type": "code",
   "execution_count": 42,
   "metadata": {},
   "outputs": [
    {
     "data": {
      "text/plain": [
       "(611, 9742)"
      ]
     },
     "execution_count": 42,
     "metadata": {},
     "output_type": "execute_result"
    }
   ],
   "source": [
    "A.shape"
   ]
  },
  {
   "cell_type": "markdown",
   "metadata": {},
   "source": [
    "In this case, since we are using a subset version of the MovieLens data in which we are able to store the entire ratings data set in our memory, we can compute the SVD outright to determine how many singular values we want to use to approximate the User Ratings Matrix. However, in most cases, this is not an optimal procedure and is computationally expensive. You can see below, that even with our subset data of the ratings, the time to compute the SVD (at least on my machine) is approximately 9 seconds."
   ]
  },
  {
   "cell_type": "code",
   "execution_count": 43,
   "metadata": {
    "scrolled": true
   },
   "outputs": [
    {
     "name": "stdout",
     "output_type": "stream",
     "text": [
      "Wall time: 9.04 s\n"
     ]
    }
   ],
   "source": [
    "%time U, Sigma, Vt = linalg.svd(A)"
   ]
  },
  {
   "cell_type": "markdown",
   "metadata": {},
   "source": [
    "Let's suppose we do not have the time or computational resources to compute the SVD outright. How are we going to estimate the reduction parameter as we did in the example? Note that in the example it was clear with the last 4 singular values being zero, that we could reconstruct $\\textbf{A}$ with only 3 (r =3). Now that the User Ratings Matrix has 611 singular values, how many do we really need to reconstruct the matrix with an acceptable level of certainty? Here, we introduce the Frobenius Norm.\n",
    "\n",
    "# $$ ||\\textbf{A}||_{F} = \\sqrt{tr(\\textbf{A}\\textbf{A}^{*})} $$"
   ]
  },
  {
   "cell_type": "code",
   "execution_count": 61,
   "metadata": {},
   "outputs": [
    {
     "data": {
      "text/plain": [
       "1159.6241848116138"
      ]
     },
     "execution_count": 61,
     "metadata": {},
     "output_type": "execute_result"
    }
   ],
   "source": [
    "np.linalg.norm(A, ord= 'fro')"
   ]
  },
  {
   "cell_type": "markdown",
   "metadata": {},
   "source": [
    "So we want to choose an appropriate value such that the frobenius norm of our reduced approximation is close to that of our original User Rating Matrix. For this exercise, we will choose an r value such that we want to achieve "
   ]
  },
  {
   "cell_type": "code",
   "execution_count": 49,
   "metadata": {},
   "outputs": [
    {
     "data": {
      "text/plain": [
       "0.40028613255570544"
      ]
     },
     "execution_count": 49,
     "metadata": {},
     "output_type": "execute_result"
    }
   ],
   "source": [
    "sum(Sigma[:100])/sum(Sigma)"
   ]
  },
  {
   "cell_type": "markdown",
   "metadata": {},
   "source": [
    "### Trial 1: Choose r = 100"
   ]
  },
  {
   "cell_type": "code",
   "execution_count": 50,
   "metadata": {
    "scrolled": true
   },
   "outputs": [
    {
     "data": {
      "text/plain": [
       "array([[   0.     ,    0.     ,    0.     , ...,    0.     ,    0.     ,    0.     ],\n",
       "       [-104.9848 ,  -24.09597,  -72.16868, ..., -123.97344, -136.29638,   64.71469],\n",
       "       [  39.01332,  -14.27205,   26.15262, ...,  -37.75846,   15.36225,   32.7287 ],\n",
       "       ...,\n",
       "       [ -11.24709,  -66.78183, -168.29906, ...,  -10.80006,  -88.58394,   81.35586],\n",
       "       [  -5.91138,  -34.2979 ,    6.1717 , ...,   25.07995,   -8.52633,  -17.93754],\n",
       "       [ -73.44116,  -91.75189,  -77.29179, ...,   22.11244, -196.84659,  115.04772]])"
      ]
     },
     "execution_count": 50,
     "metadata": {},
     "output_type": "execute_result"
    }
   ],
   "source": [
    "Ω = np.random.normal(size = (A.shape[1], 100) )\n",
    "Y = A @ Ω\n",
    "Q, R = np.linalg.qr(Y, mode = 'reduced') # Q is the Gram-Schmidt process \n",
    "B = Q.T @ A"
   ]
  },
  {
   "cell_type": "markdown",
   "metadata": {},
   "source": [
    "Now we will compute the SVD of $\\textbf{B}$."
   ]
  },
  {
   "cell_type": "code",
   "execution_count": 55,
   "metadata": {},
   "outputs": [
    {
     "name": "stdout",
     "output_type": "stream",
     "text": [
      "Wall time: 202 ms\n"
     ]
    },
    {
     "data": {
      "text/plain": [
       "0.018323990110064293"
      ]
     },
     "execution_count": 55,
     "metadata": {},
     "output_type": "execute_result"
    }
   ],
   "source": [
    "%time Ur, Sigmar, Vrt = linalg.svd(B, full_matrices = False)\n",
    "#sum((Sigmar - Sigma[:len(Sigmar)])**2)/sum(Sigma**2)"
   ]
  },
  {
   "cell_type": "markdown",
   "metadata": {},
   "source": [
    "Note that for $r=100$, computing the SVD is significantly faster that computing it for $\\textbf{A}$ outright."
   ]
  },
  {
   "cell_type": "markdown",
   "metadata": {},
   "source": [
    "We are going to round the values computed by the reduced SVD approximation to the nearest whole integer, since the user ratings range between 0.5 and 5, by 0.5 increments, we are going to disregard 0.5 ratings in our estimates. "
   ]
  },
  {
   "cell_type": "code",
   "execution_count": 71,
   "metadata": {},
   "outputs": [],
   "source": [
    "A_r= (Q @ Ur @ np.diag(Sigmar) @ Vrt).round()"
   ]
  },
  {
   "cell_type": "markdown",
   "metadata": {},
   "source": [
    "Now by dividing the frobenius norm of the reduced approximation by the frobenius norm of the original, we obtain:"
   ]
  },
  {
   "cell_type": "code",
   "execution_count": 75,
   "metadata": {},
   "outputs": [
    {
     "data": {
      "text/plain": [
       "0.7416892657309809"
      ]
     },
     "execution_count": 75,
     "metadata": {},
     "output_type": "execute_result"
    }
   ],
   "source": [
    "np.linalg.norm(A_r, ord = 'fro') / np.linalg.norm(A, ord = 'fro')"
   ]
  },
  {
   "cell_type": "markdown",
   "metadata": {},
   "source": [
    "This means that are preserving approximately 75% of the energy for the matrix $\\textbf{A}$ with $r=100$. "
   ]
  },
  {
   "cell_type": "markdown",
   "metadata": {},
   "source": [
    "### Trial 2: Choose r = 200"
   ]
  },
  {
   "cell_type": "code",
   "execution_count": 76,
   "metadata": {},
   "outputs": [],
   "source": [
    "Ω = np.random.normal(size = (A.shape[1], 200) )\n",
    "Y = A @ Ω\n",
    "Q, R = np.linalg.qr(Y, mode = 'reduced') # Q is the Gram-Schmidt process \n",
    "B = Q.T @ A"
   ]
  },
  {
   "cell_type": "code",
   "execution_count": 77,
   "metadata": {},
   "outputs": [
    {
     "name": "stdout",
     "output_type": "stream",
     "text": [
      "Wall time: 368 ms\n"
     ]
    }
   ],
   "source": [
    "%time Ur, Sigmar, Vrt = linalg.svd(B, full_matrices = False)\n",
    "#sum((Sigmar - Sigma[:len(Sigmar)])**2)/sum(Sigma**2)"
   ]
  },
  {
   "cell_type": "code",
   "execution_count": 78,
   "metadata": {},
   "outputs": [],
   "source": [
    "A_r= (Q @ Ur @ np.diag(Sigmar) @ Vrt).round()"
   ]
  },
  {
   "cell_type": "code",
   "execution_count": 79,
   "metadata": {},
   "outputs": [
    {
     "data": {
      "text/plain": [
       "0.8518412993069163"
      ]
     },
     "execution_count": 79,
     "metadata": {},
     "output_type": "execute_result"
    }
   ],
   "source": [
    "np.linalg.norm(A_r, ord = 'fro') / np.linalg.norm(A, ord = 'fro')"
   ]
  },
  {
   "cell_type": "markdown",
   "metadata": {},
   "source": [
    "Note that we still have significant speed and with $r=200$, we are preserving approximately 85% of the energy for the matrix $\\textbf{A}$"
   ]
  },
  {
   "cell_type": "markdown",
   "metadata": {},
   "source": [
    "### Trial 3: Choose r = 300"
   ]
  },
  {
   "cell_type": "code",
   "execution_count": 84,
   "metadata": {},
   "outputs": [],
   "source": [
    "Ω = np.random.normal(size = (A.shape[1], 300) )\n",
    "Y = A @ Ω\n",
    "Q, R = np.linalg.qr(Y, mode = 'reduced') # Q is the Gram-Schmidt process \n",
    "B = Q.T @ A"
   ]
  },
  {
   "cell_type": "code",
   "execution_count": 85,
   "metadata": {},
   "outputs": [
    {
     "name": "stdout",
     "output_type": "stream",
     "text": [
      "Wall time: 511 ms\n"
     ]
    }
   ],
   "source": [
    "%time Ur, Sigmar, Vrt = linalg.svd(B, full_matrices = False)\n",
    "#sum((Sigmar - Sigma[:len(Sigmar)])**2)/sum(Sigma**2)"
   ]
  },
  {
   "cell_type": "code",
   "execution_count": 86,
   "metadata": {},
   "outputs": [],
   "source": [
    "A_r= (Q @ Ur @ np.diag(Sigmar) @ Vrt).round()"
   ]
  },
  {
   "cell_type": "code",
   "execution_count": 87,
   "metadata": {},
   "outputs": [
    {
     "data": {
      "text/plain": [
       "0.9139647693022843"
      ]
     },
     "execution_count": 87,
     "metadata": {},
     "output_type": "execute_result"
    }
   ],
   "source": [
    "np.linalg.norm(A_r, ord = 'fro') / np.linalg.norm(A, ord = 'fro')"
   ]
  },
  {
   "cell_type": "markdown",
   "metadata": {},
   "source": [
    "Note that we still have significant speed and with $r=300$, we are preserving approximately 91% of the energy for the matrix $\\textbf{A}$."
   ]
  },
  {
   "cell_type": "markdown",
   "metadata": {},
   "source": [
    "### Conclusion\n",
    "With approximately half of the singular values from the SVD, we are able to reconstruct the original User Rating Matrix up to about 91%. Further trials can approximate an appropriate choice in our reduction value that can help us do these types of computations with larger data sets using a similar approach. The SVD is incredible tool that can be further used in predicting movie ratings and recommending movies to users as well. "
   ]
  },
  {
   "cell_type": "code",
   "execution_count": null,
   "metadata": {},
   "outputs": [],
   "source": []
  }
 ],
 "metadata": {
  "kernelspec": {
   "display_name": "Python 3",
   "language": "python",
   "name": "python3"
  },
  "language_info": {
   "codemirror_mode": {
    "name": "ipython",
    "version": 3
   },
   "file_extension": ".py",
   "mimetype": "text/x-python",
   "name": "python",
   "nbconvert_exporter": "python",
   "pygments_lexer": "ipython3",
   "version": "3.6.5"
  }
 },
 "nbformat": 4,
 "nbformat_minor": 2
}
